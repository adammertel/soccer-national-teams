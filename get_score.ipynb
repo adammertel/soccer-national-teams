{
 "metadata": {
  "orig_nbformat": 2,
  "kernelspec": {
   "name": "python3",
   "display_name": "Python 3",
   "language": "python"
  }
 },
 "nbformat": 4,
 "nbformat_minor": 2,
 "cells": [
  {
   "cell_type": "code",
   "execution_count": 8,
   "metadata": {},
   "outputs": [],
   "source": [
    "import pandas as pd\n",
    "import numpy as np\n",
    "predictions = pd.read_csv('predictions.csv', index_col=0)"
   ]
  },
  {
   "cell_type": "code",
   "execution_count": 9,
   "metadata": {},
   "outputs": [
    {
     "output_type": "execute_result",
     "data": {
      "text/plain": [
       "                  Belgium     Italy    Russia    Poland   Ukraine     Spain  \\\n",
       "Belgium               NaN  1.325581  2.758621  0.681818       NaN  0.191489   \n",
       "Italy            1.837209       NaN  0.631579  1.125000  1.566667  0.687500   \n",
       "Russia           1.149425  2.052632       NaN  1.186047       NaN  1.223881   \n",
       "Poland           1.363636  0.322917  1.186047       NaN  1.000000  0.000000   \n",
       "Ukraine               NaN  0.450000       NaN  0.887640       NaN  0.370787   \n",
       "Spain            2.638298  1.225000  2.104478  5.750000  1.797753       NaN   \n",
       "France           1.159420  2.024691  3.205128  0.722222  2.752137  0.514563   \n",
       "Turkey           1.672727  1.000000  1.051724       NaN  1.043478  0.270270   \n",
       "England          0.591398  0.987500  1.484848  1.783333  0.954545  1.185185   \n",
       "Czech Republic   1.375000  0.415385  1.346939  1.250000  1.063492  0.292683   \n",
       "Finland          1.103448  0.285714  0.000000  0.567568  0.701754  0.388889   \n",
       "Sweden           0.030303  0.342857  0.960784  2.692308  0.804348  0.676923   \n",
       "Croatia          0.845070  1.185185  1.720000  0.450000  1.345455  1.289474   \n",
       "Austria          1.913043  2.000000  0.909091  0.433333  2.040000  0.846154   \n",
       "Netherlands      1.152542  0.783582  1.923077  1.666667  1.900000  1.985075   \n",
       "Germany          2.162162  1.212963  2.204545  1.065934  2.466667  0.623762   \n",
       "Portugal         1.566038  0.671233  1.000000  1.488372  0.500000  1.000000   \n",
       "Switzerland      2.000000  0.687500  1.090909  1.382353  1.102564  0.708333   \n",
       "Denmark          1.023256  1.281250  0.000000  2.630952  0.600000  0.533333   \n",
       "Wales            1.061856  0.857143  1.590909  0.500000  0.190476  1.000000   \n",
       "North Macedonia  0.000000  1.485714  0.000000  0.333333  0.125000  0.697368   \n",
       "Hungary          0.000000  2.363636  0.790698  1.764706       NaN  1.000000   \n",
       "Slovakia         1.000000  3.000000  1.067416  1.333333  1.304762  0.976744   \n",
       "Scotland         0.044444  0.311111  0.500000  1.645833  1.600000  1.392857   \n",
       "\n",
       "                   France    Turkey   England  Czech Republic  ...  \\\n",
       "Belgium          1.014493  1.709091  1.290323        1.156250  ...   \n",
       "Italy            1.012346  1.090909  1.062500        2.153846  ...   \n",
       "Russia           1.358974  1.362069  1.000000        3.346939  ...   \n",
       "Poland           0.000000       NaN  0.766667        0.868421  ...   \n",
       "Ukraine          0.846154  0.923913  0.500000        0.904762  ...   \n",
       "Spain            1.281553  2.189189  1.620370        1.585366  ...   \n",
       "France                NaN  0.836364  1.493151        0.400000  ...   \n",
       "Turkey           1.236364       NaN  0.680000        1.548387  ...   \n",
       "England          1.342466  1.680000       NaN        2.816327  ...   \n",
       "Czech Republic   1.800000  1.258065  1.183673             NaN  ...   \n",
       "Finland          0.875000  1.293103  0.666667        1.525000  ...   \n",
       "Sweden           1.208333  1.132530  1.378378        1.461538  ...   \n",
       "Croatia          1.405063  1.369369  1.280000        2.827586  ...   \n",
       "Austria          1.370370  0.910448  0.243902        1.483871  ...   \n",
       "Netherlands      1.083333  1.329787  1.721649        1.571429  ...   \n",
       "Germany          0.776224  2.796610  1.393939        1.692308  ...   \n",
       "Portugal         0.330000  1.434783  0.552632        1.818182  ...   \n",
       "Switzerland      0.683333  1.571429  0.411215        0.000000  ...   \n",
       "Denmark          0.343750  1.136364  0.841463        0.975309  ...   \n",
       "Wales            0.000000       NaN  0.232877        0.725000  ...   \n",
       "North Macedonia       NaN  0.722222  0.476190        0.615385  ...   \n",
       "Hungary          1.000000  1.380952  1.000000        1.333333  ...   \n",
       "Slovakia         0.933333  0.848485  0.362319        0.727891  ...   \n",
       "Scotland         0.416667       NaN  1.234375        1.215686  ...   \n",
       "\n",
       "                 Netherlands   Germany  Portugal  Switzerland   Denmark  \\\n",
       "Belgium             1.677966  0.324324  0.490566     2.000000  2.976744   \n",
       "Italy               1.186567  1.222222  0.589041     0.812500  2.093750   \n",
       "Russia              1.692308  0.477273  0.441558     3.000000  2.000000   \n",
       "Poland              0.650000  0.769231  1.209302     1.617647  1.404762   \n",
       "Ukraine             0.550000  1.093333  1.000000     1.641026  0.733333   \n",
       "Spain               0.716418  1.970297  0.761468     0.847222  2.566667   \n",
       "France              1.825000  1.356643  0.840000     1.733333  1.296875   \n",
       "Turkey              1.617021  1.779661  1.695652     2.000000  1.363636   \n",
       "England             1.154639  1.000000  0.973684     1.598131  0.756098   \n",
       "Czech Republic      1.946429  0.794872  0.409091     1.000000  0.641975   \n",
       "Finland             0.470588  1.025000  0.475000     1.419355  0.727273   \n",
       "Sweden              1.077922  1.591549  0.852174     1.083333  0.702128   \n",
       "Croatia             0.000000  1.600000  0.836735     1.814815  1.208333   \n",
       "Austria             0.955556  1.020833  0.000000     0.978723  0.423077   \n",
       "Netherlands              NaN  1.954198  1.141176     0.400000  1.000000   \n",
       "Germany             1.687023       NaN  2.688889     2.487179  1.219178   \n",
       "Portugal            1.023529  0.622222       NaN     1.500000  1.691489   \n",
       "Switzerland         0.800000  2.025641  1.125000          NaN  1.500000   \n",
       "Denmark             0.666667  1.164384  1.351064     2.000000       NaN   \n",
       "Wales               0.800000  0.078947  0.000000     1.521739  0.595745   \n",
       "North Macedonia     0.633333  2.000000  0.000000          NaN  3.000000   \n",
       "Hungary             1.193548  0.400000  0.698630     1.921053  1.176471   \n",
       "Slovakia            0.697674  1.368421  0.500000     1.920000  2.454545   \n",
       "Scotland            0.695652  1.410256  0.863636     1.000000  1.108108   \n",
       "\n",
       "                    Wales  North Macedonia   Hungary  Slovakia  Scotland  \n",
       "Belgium          1.268041         1.500000  3.629630  1.583333  3.088889  \n",
       "Italy            2.714286         1.971429  1.090909  2.000000  1.488889  \n",
       "Russia           1.181818         1.605263  1.837209  0.808989  3.000000  \n",
       "Poland           1.458333         2.015152  1.921569  0.703704  1.333333  \n",
       "Ukraine          1.000000         1.175000       NaN  1.066667  1.466667  \n",
       "Spain            4.000000         2.960526  1.000000  1.930233  2.642857  \n",
       "France           2.550000              NaN  2.000000  1.000000  1.888889  \n",
       "Turkey                NaN         0.777778  0.690476  1.181818       NaN  \n",
       "England          2.041096         1.000000  2.388889  1.550725  2.718750  \n",
       "Czech Republic   0.350000         3.692308  1.100000  1.959184  0.813725  \n",
       "Finland          0.964286         1.540541  0.550459  1.000000       NaN  \n",
       "Sweden           2.214286         1.111111  1.792208  2.425926  3.312500  \n",
       "Croatia          1.716049         1.333333  1.587500  2.784615  0.250000  \n",
       "Austria          1.081967         3.000000  0.320000  0.389831  1.600000  \n",
       "Netherlands      2.400000         2.266667  5.451613  1.558140  1.826087  \n",
       "Germany          1.184211         1.000000  2.200000  2.035088  2.307692  \n",
       "Portugal         2.055556         0.235294  2.232877  1.500000  2.863636  \n",
       "Switzerland      1.913043              NaN  3.868421  2.000000  3.000000  \n",
       "Denmark          1.617021         0.000000  0.882353  0.840909  0.540541  \n",
       "Wales                 NaN         1.000000  1.215686  1.680556  2.148148  \n",
       "North Macedonia  1.000000              NaN  0.000000  0.492308  0.782609  \n",
       "Hungary          0.490196         3.666667       NaN  0.537037  0.625000  \n",
       "Slovakia         1.222222         1.676923  1.740741       NaN  0.935065  \n",
       "Scotland         1.166667         1.326087  0.791667  0.506494       NaN  \n",
       "\n",
       "[24 rows x 24 columns]"
      ],
      "text/html": "<div>\n<style scoped>\n    .dataframe tbody tr th:only-of-type {\n        vertical-align: middle;\n    }\n\n    .dataframe tbody tr th {\n        vertical-align: top;\n    }\n\n    .dataframe thead th {\n        text-align: right;\n    }\n</style>\n<table border=\"1\" class=\"dataframe\">\n  <thead>\n    <tr style=\"text-align: right;\">\n      <th></th>\n      <th>Belgium</th>\n      <th>Italy</th>\n      <th>Russia</th>\n      <th>Poland</th>\n      <th>Ukraine</th>\n      <th>Spain</th>\n      <th>France</th>\n      <th>Turkey</th>\n      <th>England</th>\n      <th>Czech Republic</th>\n      <th>...</th>\n      <th>Netherlands</th>\n      <th>Germany</th>\n      <th>Portugal</th>\n      <th>Switzerland</th>\n      <th>Denmark</th>\n      <th>Wales</th>\n      <th>North Macedonia</th>\n      <th>Hungary</th>\n      <th>Slovakia</th>\n      <th>Scotland</th>\n    </tr>\n  </thead>\n  <tbody>\n    <tr>\n      <th>Belgium</th>\n      <td>NaN</td>\n      <td>1.325581</td>\n      <td>2.758621</td>\n      <td>0.681818</td>\n      <td>NaN</td>\n      <td>0.191489</td>\n      <td>1.014493</td>\n      <td>1.709091</td>\n      <td>1.290323</td>\n      <td>1.156250</td>\n      <td>...</td>\n      <td>1.677966</td>\n      <td>0.324324</td>\n      <td>0.490566</td>\n      <td>2.000000</td>\n      <td>2.976744</td>\n      <td>1.268041</td>\n      <td>1.500000</td>\n      <td>3.629630</td>\n      <td>1.583333</td>\n      <td>3.088889</td>\n    </tr>\n    <tr>\n      <th>Italy</th>\n      <td>1.837209</td>\n      <td>NaN</td>\n      <td>0.631579</td>\n      <td>1.125000</td>\n      <td>1.566667</td>\n      <td>0.687500</td>\n      <td>1.012346</td>\n      <td>1.090909</td>\n      <td>1.062500</td>\n      <td>2.153846</td>\n      <td>...</td>\n      <td>1.186567</td>\n      <td>1.222222</td>\n      <td>0.589041</td>\n      <td>0.812500</td>\n      <td>2.093750</td>\n      <td>2.714286</td>\n      <td>1.971429</td>\n      <td>1.090909</td>\n      <td>2.000000</td>\n      <td>1.488889</td>\n    </tr>\n    <tr>\n      <th>Russia</th>\n      <td>1.149425</td>\n      <td>2.052632</td>\n      <td>NaN</td>\n      <td>1.186047</td>\n      <td>NaN</td>\n      <td>1.223881</td>\n      <td>1.358974</td>\n      <td>1.362069</td>\n      <td>1.000000</td>\n      <td>3.346939</td>\n      <td>...</td>\n      <td>1.692308</td>\n      <td>0.477273</td>\n      <td>0.441558</td>\n      <td>3.000000</td>\n      <td>2.000000</td>\n      <td>1.181818</td>\n      <td>1.605263</td>\n      <td>1.837209</td>\n      <td>0.808989</td>\n      <td>3.000000</td>\n    </tr>\n    <tr>\n      <th>Poland</th>\n      <td>1.363636</td>\n      <td>0.322917</td>\n      <td>1.186047</td>\n      <td>NaN</td>\n      <td>1.000000</td>\n      <td>0.000000</td>\n      <td>0.000000</td>\n      <td>NaN</td>\n      <td>0.766667</td>\n      <td>0.868421</td>\n      <td>...</td>\n      <td>0.650000</td>\n      <td>0.769231</td>\n      <td>1.209302</td>\n      <td>1.617647</td>\n      <td>1.404762</td>\n      <td>1.458333</td>\n      <td>2.015152</td>\n      <td>1.921569</td>\n      <td>0.703704</td>\n      <td>1.333333</td>\n    </tr>\n    <tr>\n      <th>Ukraine</th>\n      <td>NaN</td>\n      <td>0.450000</td>\n      <td>NaN</td>\n      <td>0.887640</td>\n      <td>NaN</td>\n      <td>0.370787</td>\n      <td>0.846154</td>\n      <td>0.923913</td>\n      <td>0.500000</td>\n      <td>0.904762</td>\n      <td>...</td>\n      <td>0.550000</td>\n      <td>1.093333</td>\n      <td>1.000000</td>\n      <td>1.641026</td>\n      <td>0.733333</td>\n      <td>1.000000</td>\n      <td>1.175000</td>\n      <td>NaN</td>\n      <td>1.066667</td>\n      <td>1.466667</td>\n    </tr>\n    <tr>\n      <th>Spain</th>\n      <td>2.638298</td>\n      <td>1.225000</td>\n      <td>2.104478</td>\n      <td>5.750000</td>\n      <td>1.797753</td>\n      <td>NaN</td>\n      <td>1.281553</td>\n      <td>2.189189</td>\n      <td>1.620370</td>\n      <td>1.585366</td>\n      <td>...</td>\n      <td>0.716418</td>\n      <td>1.970297</td>\n      <td>0.761468</td>\n      <td>0.847222</td>\n      <td>2.566667</td>\n      <td>4.000000</td>\n      <td>2.960526</td>\n      <td>1.000000</td>\n      <td>1.930233</td>\n      <td>2.642857</td>\n    </tr>\n    <tr>\n      <th>France</th>\n      <td>1.159420</td>\n      <td>2.024691</td>\n      <td>3.205128</td>\n      <td>0.722222</td>\n      <td>2.752137</td>\n      <td>0.514563</td>\n      <td>NaN</td>\n      <td>0.836364</td>\n      <td>1.493151</td>\n      <td>0.400000</td>\n      <td>...</td>\n      <td>1.825000</td>\n      <td>1.356643</td>\n      <td>0.840000</td>\n      <td>1.733333</td>\n      <td>1.296875</td>\n      <td>2.550000</td>\n      <td>NaN</td>\n      <td>2.000000</td>\n      <td>1.000000</td>\n      <td>1.888889</td>\n    </tr>\n    <tr>\n      <th>Turkey</th>\n      <td>1.672727</td>\n      <td>1.000000</td>\n      <td>1.051724</td>\n      <td>NaN</td>\n      <td>1.043478</td>\n      <td>0.270270</td>\n      <td>1.236364</td>\n      <td>NaN</td>\n      <td>0.680000</td>\n      <td>1.548387</td>\n      <td>...</td>\n      <td>1.617021</td>\n      <td>1.779661</td>\n      <td>1.695652</td>\n      <td>2.000000</td>\n      <td>1.363636</td>\n      <td>NaN</td>\n      <td>0.777778</td>\n      <td>0.690476</td>\n      <td>1.181818</td>\n      <td>NaN</td>\n    </tr>\n    <tr>\n      <th>England</th>\n      <td>0.591398</td>\n      <td>0.987500</td>\n      <td>1.484848</td>\n      <td>1.783333</td>\n      <td>0.954545</td>\n      <td>1.185185</td>\n      <td>1.342466</td>\n      <td>1.680000</td>\n      <td>NaN</td>\n      <td>2.816327</td>\n      <td>...</td>\n      <td>1.154639</td>\n      <td>1.000000</td>\n      <td>0.973684</td>\n      <td>1.598131</td>\n      <td>0.756098</td>\n      <td>2.041096</td>\n      <td>1.000000</td>\n      <td>2.388889</td>\n      <td>1.550725</td>\n      <td>2.718750</td>\n    </tr>\n    <tr>\n      <th>Czech Republic</th>\n      <td>1.375000</td>\n      <td>0.415385</td>\n      <td>1.346939</td>\n      <td>1.250000</td>\n      <td>1.063492</td>\n      <td>0.292683</td>\n      <td>1.800000</td>\n      <td>1.258065</td>\n      <td>1.183673</td>\n      <td>NaN</td>\n      <td>...</td>\n      <td>1.946429</td>\n      <td>0.794872</td>\n      <td>0.409091</td>\n      <td>1.000000</td>\n      <td>0.641975</td>\n      <td>0.350000</td>\n      <td>3.692308</td>\n      <td>1.100000</td>\n      <td>1.959184</td>\n      <td>0.813725</td>\n    </tr>\n    <tr>\n      <th>Finland</th>\n      <td>1.103448</td>\n      <td>0.285714</td>\n      <td>0.000000</td>\n      <td>0.567568</td>\n      <td>0.701754</td>\n      <td>0.388889</td>\n      <td>0.875000</td>\n      <td>1.293103</td>\n      <td>0.666667</td>\n      <td>1.525000</td>\n      <td>...</td>\n      <td>0.470588</td>\n      <td>1.025000</td>\n      <td>0.475000</td>\n      <td>1.419355</td>\n      <td>0.727273</td>\n      <td>0.964286</td>\n      <td>1.540541</td>\n      <td>0.550459</td>\n      <td>1.000000</td>\n      <td>NaN</td>\n    </tr>\n    <tr>\n      <th>Sweden</th>\n      <td>0.030303</td>\n      <td>0.342857</td>\n      <td>0.960784</td>\n      <td>2.692308</td>\n      <td>0.804348</td>\n      <td>0.676923</td>\n      <td>1.208333</td>\n      <td>1.132530</td>\n      <td>1.378378</td>\n      <td>1.461538</td>\n      <td>...</td>\n      <td>1.077922</td>\n      <td>1.591549</td>\n      <td>0.852174</td>\n      <td>1.083333</td>\n      <td>0.702128</td>\n      <td>2.214286</td>\n      <td>1.111111</td>\n      <td>1.792208</td>\n      <td>2.425926</td>\n      <td>3.312500</td>\n    </tr>\n    <tr>\n      <th>Croatia</th>\n      <td>0.845070</td>\n      <td>1.185185</td>\n      <td>1.720000</td>\n      <td>0.450000</td>\n      <td>1.345455</td>\n      <td>1.289474</td>\n      <td>1.405063</td>\n      <td>1.369369</td>\n      <td>1.280000</td>\n      <td>2.827586</td>\n      <td>...</td>\n      <td>0.000000</td>\n      <td>1.600000</td>\n      <td>0.836735</td>\n      <td>1.814815</td>\n      <td>1.208333</td>\n      <td>1.716049</td>\n      <td>1.333333</td>\n      <td>1.587500</td>\n      <td>2.784615</td>\n      <td>0.250000</td>\n    </tr>\n    <tr>\n      <th>Austria</th>\n      <td>1.913043</td>\n      <td>2.000000</td>\n      <td>0.909091</td>\n      <td>0.433333</td>\n      <td>2.040000</td>\n      <td>0.846154</td>\n      <td>1.370370</td>\n      <td>0.910448</td>\n      <td>0.243902</td>\n      <td>1.483871</td>\n      <td>...</td>\n      <td>0.955556</td>\n      <td>1.020833</td>\n      <td>0.000000</td>\n      <td>0.978723</td>\n      <td>0.423077</td>\n      <td>1.081967</td>\n      <td>3.000000</td>\n      <td>0.320000</td>\n      <td>0.389831</td>\n      <td>1.600000</td>\n    </tr>\n    <tr>\n      <th>Netherlands</th>\n      <td>1.152542</td>\n      <td>0.783582</td>\n      <td>1.923077</td>\n      <td>1.666667</td>\n      <td>1.900000</td>\n      <td>1.985075</td>\n      <td>1.083333</td>\n      <td>1.329787</td>\n      <td>1.721649</td>\n      <td>1.571429</td>\n      <td>...</td>\n      <td>NaN</td>\n      <td>1.954198</td>\n      <td>1.141176</td>\n      <td>0.400000</td>\n      <td>1.000000</td>\n      <td>2.400000</td>\n      <td>2.266667</td>\n      <td>5.451613</td>\n      <td>1.558140</td>\n      <td>1.826087</td>\n    </tr>\n    <tr>\n      <th>Germany</th>\n      <td>2.162162</td>\n      <td>1.212963</td>\n      <td>2.204545</td>\n      <td>1.065934</td>\n      <td>2.466667</td>\n      <td>0.623762</td>\n      <td>0.776224</td>\n      <td>2.796610</td>\n      <td>1.393939</td>\n      <td>1.692308</td>\n      <td>...</td>\n      <td>1.687023</td>\n      <td>NaN</td>\n      <td>2.688889</td>\n      <td>2.487179</td>\n      <td>1.219178</td>\n      <td>1.184211</td>\n      <td>1.000000</td>\n      <td>2.200000</td>\n      <td>2.035088</td>\n      <td>2.307692</td>\n    </tr>\n    <tr>\n      <th>Portugal</th>\n      <td>1.566038</td>\n      <td>0.671233</td>\n      <td>1.000000</td>\n      <td>1.488372</td>\n      <td>0.500000</td>\n      <td>1.000000</td>\n      <td>0.330000</td>\n      <td>1.434783</td>\n      <td>0.552632</td>\n      <td>1.818182</td>\n      <td>...</td>\n      <td>1.023529</td>\n      <td>0.622222</td>\n      <td>NaN</td>\n      <td>1.500000</td>\n      <td>1.691489</td>\n      <td>2.055556</td>\n      <td>0.235294</td>\n      <td>2.232877</td>\n      <td>1.500000</td>\n      <td>2.863636</td>\n    </tr>\n    <tr>\n      <th>Switzerland</th>\n      <td>2.000000</td>\n      <td>0.687500</td>\n      <td>1.090909</td>\n      <td>1.382353</td>\n      <td>1.102564</td>\n      <td>0.708333</td>\n      <td>0.683333</td>\n      <td>1.571429</td>\n      <td>0.411215</td>\n      <td>0.000000</td>\n      <td>...</td>\n      <td>0.800000</td>\n      <td>2.025641</td>\n      <td>1.125000</td>\n      <td>NaN</td>\n      <td>1.500000</td>\n      <td>1.913043</td>\n      <td>NaN</td>\n      <td>3.868421</td>\n      <td>2.000000</td>\n      <td>3.000000</td>\n    </tr>\n    <tr>\n      <th>Denmark</th>\n      <td>1.023256</td>\n      <td>1.281250</td>\n      <td>0.000000</td>\n      <td>2.630952</td>\n      <td>0.600000</td>\n      <td>0.533333</td>\n      <td>0.343750</td>\n      <td>1.136364</td>\n      <td>0.841463</td>\n      <td>0.975309</td>\n      <td>...</td>\n      <td>0.666667</td>\n      <td>1.164384</td>\n      <td>1.351064</td>\n      <td>2.000000</td>\n      <td>NaN</td>\n      <td>1.617021</td>\n      <td>0.000000</td>\n      <td>0.882353</td>\n      <td>0.840909</td>\n      <td>0.540541</td>\n    </tr>\n    <tr>\n      <th>Wales</th>\n      <td>1.061856</td>\n      <td>0.857143</td>\n      <td>1.590909</td>\n      <td>0.500000</td>\n      <td>0.190476</td>\n      <td>1.000000</td>\n      <td>0.000000</td>\n      <td>NaN</td>\n      <td>0.232877</td>\n      <td>0.725000</td>\n      <td>...</td>\n      <td>0.800000</td>\n      <td>0.078947</td>\n      <td>0.000000</td>\n      <td>1.521739</td>\n      <td>0.595745</td>\n      <td>NaN</td>\n      <td>1.000000</td>\n      <td>1.215686</td>\n      <td>1.680556</td>\n      <td>2.148148</td>\n    </tr>\n    <tr>\n      <th>North Macedonia</th>\n      <td>0.000000</td>\n      <td>1.485714</td>\n      <td>0.000000</td>\n      <td>0.333333</td>\n      <td>0.125000</td>\n      <td>0.697368</td>\n      <td>NaN</td>\n      <td>0.722222</td>\n      <td>0.476190</td>\n      <td>0.615385</td>\n      <td>...</td>\n      <td>0.633333</td>\n      <td>2.000000</td>\n      <td>0.000000</td>\n      <td>NaN</td>\n      <td>3.000000</td>\n      <td>1.000000</td>\n      <td>NaN</td>\n      <td>0.000000</td>\n      <td>0.492308</td>\n      <td>0.782609</td>\n    </tr>\n    <tr>\n      <th>Hungary</th>\n      <td>0.000000</td>\n      <td>2.363636</td>\n      <td>0.790698</td>\n      <td>1.764706</td>\n      <td>NaN</td>\n      <td>1.000000</td>\n      <td>1.000000</td>\n      <td>1.380952</td>\n      <td>1.000000</td>\n      <td>1.333333</td>\n      <td>...</td>\n      <td>1.193548</td>\n      <td>0.400000</td>\n      <td>0.698630</td>\n      <td>1.921053</td>\n      <td>1.176471</td>\n      <td>0.490196</td>\n      <td>3.666667</td>\n      <td>NaN</td>\n      <td>0.537037</td>\n      <td>0.625000</td>\n    </tr>\n    <tr>\n      <th>Slovakia</th>\n      <td>1.000000</td>\n      <td>3.000000</td>\n      <td>1.067416</td>\n      <td>1.333333</td>\n      <td>1.304762</td>\n      <td>0.976744</td>\n      <td>0.933333</td>\n      <td>0.848485</td>\n      <td>0.362319</td>\n      <td>0.727891</td>\n      <td>...</td>\n      <td>0.697674</td>\n      <td>1.368421</td>\n      <td>0.500000</td>\n      <td>1.920000</td>\n      <td>2.454545</td>\n      <td>1.222222</td>\n      <td>1.676923</td>\n      <td>1.740741</td>\n      <td>NaN</td>\n      <td>0.935065</td>\n    </tr>\n    <tr>\n      <th>Scotland</th>\n      <td>0.044444</td>\n      <td>0.311111</td>\n      <td>0.500000</td>\n      <td>1.645833</td>\n      <td>1.600000</td>\n      <td>1.392857</td>\n      <td>0.416667</td>\n      <td>NaN</td>\n      <td>1.234375</td>\n      <td>1.215686</td>\n      <td>...</td>\n      <td>0.695652</td>\n      <td>1.410256</td>\n      <td>0.863636</td>\n      <td>1.000000</td>\n      <td>1.108108</td>\n      <td>1.166667</td>\n      <td>1.326087</td>\n      <td>0.791667</td>\n      <td>0.506494</td>\n      <td>NaN</td>\n    </tr>\n  </tbody>\n</table>\n<p>24 rows × 24 columns</p>\n</div>"
     },
     "metadata": {},
     "execution_count": 9
    }
   ],
   "source": [
    "predictions"
   ]
  },
  {
   "cell_type": "code",
   "execution_count": 24,
   "metadata": {},
   "outputs": [
    {
     "output_type": "stream",
     "name": "stdout",
     "text": [
      "1.3566433566433564-0.7762237762237761\n"
     ]
    }
   ],
   "source": [
    "t1 = 'France'\n",
    "t2 = 'Germany'\n",
    "\n",
    "print('{}-{}'.format(\n",
    "    predictions.at[t1, t2], \n",
    "    predictions.at[t2, t1]\n",
    "))"
   ]
  }
 ]
}